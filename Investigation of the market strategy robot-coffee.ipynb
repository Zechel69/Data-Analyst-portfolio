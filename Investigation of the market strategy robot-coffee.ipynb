{
 "cells": [
  {
   "cell_type": "code",
   "execution_count": 1,
   "metadata": {
    "scrolled": true
   },
   "outputs": [
    {
     "name": "stdout",
     "output_type": "stream",
     "text": [
      "Note: you may need to restart the kernel to use updated packages.\n"
     ]
    }
   ],
   "source": [
    "pip install -q usaddress"
   ]
  },
  {
   "cell_type": "markdown",
   "metadata": {},
   "source": [
    "---"
   ]
  },
  {
   "cell_type": "code",
   "execution_count": 2,
   "metadata": {},
   "outputs": [],
   "source": [
    "import pandas as pd\n",
    "import scipy.stats as stats\n",
    "import datetime as dt\n",
    "import numpy as np\n",
    "import usaddress\n",
    "import seaborn as sns\n",
    "import matplotlib.pyplot as plt\n",
    "%matplotlib inline\n",
    "sns.set()\n",
    "import nltk\n",
    "#nltk.download()\n",
    "import plotly.express as px\n",
    "import warnings\n",
    "warnings.filterwarnings('ignore')\n",
    "from collections import Counter\n",
    "import matplotlib.ticker as ticker\n",
    "import matplotlib.cm as cm\n",
    "import matplotlib as mpl\n",
    "from matplotlib.gridspec import GridSpec"
   ]
  },
  {
   "cell_type": "markdown",
   "metadata": {},
   "source": [
    "Goals: To investigate current market conditions—and develop the best strategy for a new robot coffee."
   ]
  },
  {
   "cell_type": "markdown",
   "metadata": {},
   "source": [
    "##### Table of contents: "
   ]
  },
  {
   "cell_type": "markdown",
   "metadata": {},
   "source": [
    "* [Download the data and prepare it for analysis](#st1)\n",
    "* [Step 2. Data analysis](#st2)\n",
    "* [Conclusion](#st3)\n",
    "* [Presentation](#st4)"
   ]
  },
  {
   "cell_type": "markdown",
   "metadata": {},
   "source": [
    "# 1. Preparing the Data <a class=\"anchor\" id=\"st1\"></a>"
   ]
  },
  {
   "cell_type": "code",
   "execution_count": 3,
   "metadata": {},
   "outputs": [],
   "source": [
    "try:\n",
    "    data = pd.read_csv('~/Downloads/rest_data_us.csv')\n",
    "except:\n",
    "    data = pd.read_csv('/datasets/rest_data_us.csv')"
   ]
  },
  {
   "cell_type": "code",
   "execution_count": 4,
   "metadata": {},
   "outputs": [
    {
     "data": {
      "text/html": [
       "<div>\n",
       "<style scoped>\n",
       "    .dataframe tbody tr th:only-of-type {\n",
       "        vertical-align: middle;\n",
       "    }\n",
       "\n",
       "    .dataframe tbody tr th {\n",
       "        vertical-align: top;\n",
       "    }\n",
       "\n",
       "    .dataframe thead th {\n",
       "        text-align: right;\n",
       "    }\n",
       "</style>\n",
       "<table border=\"1\" class=\"dataframe\">\n",
       "  <thead>\n",
       "    <tr style=\"text-align: right;\">\n",
       "      <th></th>\n",
       "      <th>id</th>\n",
       "      <th>object_name</th>\n",
       "      <th>address</th>\n",
       "      <th>chain</th>\n",
       "      <th>object_type</th>\n",
       "      <th>number</th>\n",
       "    </tr>\n",
       "  </thead>\n",
       "  <tbody>\n",
       "    <tr>\n",
       "      <td>0</td>\n",
       "      <td>11786</td>\n",
       "      <td>HABITAT COFFEE SHOP</td>\n",
       "      <td>3708 N EAGLE ROCK BLVD</td>\n",
       "      <td>False</td>\n",
       "      <td>Cafe</td>\n",
       "      <td>26</td>\n",
       "    </tr>\n",
       "    <tr>\n",
       "      <td>1</td>\n",
       "      <td>11787</td>\n",
       "      <td>REILLY'S</td>\n",
       "      <td>100 WORLD WAY # 120</td>\n",
       "      <td>False</td>\n",
       "      <td>Restaurant</td>\n",
       "      <td>9</td>\n",
       "    </tr>\n",
       "    <tr>\n",
       "      <td>2</td>\n",
       "      <td>11788</td>\n",
       "      <td>STREET CHURROS</td>\n",
       "      <td>6801 HOLLYWOOD BLVD # 253</td>\n",
       "      <td>False</td>\n",
       "      <td>Fast Food</td>\n",
       "      <td>20</td>\n",
       "    </tr>\n",
       "  </tbody>\n",
       "</table>\n",
       "</div>"
      ],
      "text/plain": [
       "      id          object_name                    address  chain object_type  \\\n",
       "0  11786  HABITAT COFFEE SHOP     3708 N EAGLE ROCK BLVD  False        Cafe   \n",
       "1  11787             REILLY'S        100 WORLD WAY # 120  False  Restaurant   \n",
       "2  11788       STREET CHURROS  6801 HOLLYWOOD BLVD # 253  False   Fast Food   \n",
       "\n",
       "   number  \n",
       "0      26  \n",
       "1       9  \n",
       "2      20  "
      ]
     },
     "execution_count": 4,
     "metadata": {},
     "output_type": "execute_result"
    }
   ],
   "source": [
    "data.head(3)"
   ]
  },
  {
   "cell_type": "code",
   "execution_count": 5,
   "metadata": {},
   "outputs": [],
   "source": [
    "def cleaning_final(raw):\n",
    "    if raw.startswith('OLVERA'):\n",
    "        clean_adress='OLVERA,Los Angeles,USA'\n",
    "    elif raw.startswith('1033 1/2 LOS ANGELES'):\n",
    "        clean_adress='1033 1/2 LOS ANGELES ST,Los Angeles,USA'\n",
    "    else:\n",
    "        raw_address=usaddress.parse(raw)\n",
    "        dict_address={}\n",
    "        for i in raw_address:\n",
    "            dict_address.update({i[1]:i[0]})\n",
    "        clean_adress=dict_address['AddressNumber']+\" \"+str(dict_address['StreetName'])+str(', Los Angeles,USA')\n",
    "    return clean_adress"
   ]
  },
  {
   "cell_type": "markdown",
   "metadata": {},
   "source": [
    "We have build a functon for finding a clean adress including city and country."
   ]
  },
  {
   "cell_type": "code",
   "execution_count": 6,
   "metadata": {},
   "outputs": [
    {
     "data": {
      "text/html": [
       "<div>\n",
       "<style scoped>\n",
       "    .dataframe tbody tr th:only-of-type {\n",
       "        vertical-align: middle;\n",
       "    }\n",
       "\n",
       "    .dataframe tbody tr th {\n",
       "        vertical-align: top;\n",
       "    }\n",
       "\n",
       "    .dataframe thead th {\n",
       "        text-align: right;\n",
       "    }\n",
       "</style>\n",
       "<table border=\"1\" class=\"dataframe\">\n",
       "  <thead>\n",
       "    <tr style=\"text-align: right;\">\n",
       "      <th></th>\n",
       "      <th>id</th>\n",
       "      <th>object_name</th>\n",
       "      <th>address</th>\n",
       "      <th>chain</th>\n",
       "      <th>object_type</th>\n",
       "      <th>number</th>\n",
       "      <th>clean_street</th>\n",
       "    </tr>\n",
       "  </thead>\n",
       "  <tbody>\n",
       "    <tr>\n",
       "      <td>563</td>\n",
       "      <td>12349</td>\n",
       "      <td>TAKE 5</td>\n",
       "      <td>404 S FIGUEROA ST LVL E</td>\n",
       "      <td>False</td>\n",
       "      <td>Restaurant</td>\n",
       "      <td>34</td>\n",
       "      <td>404 FIGUEROA, Los Angeles,USA</td>\n",
       "    </tr>\n",
       "    <tr>\n",
       "      <td>5524</td>\n",
       "      <td>17310</td>\n",
       "      <td>SANDWICH SHOP CORP.</td>\n",
       "      <td>531 W 6TH ST</td>\n",
       "      <td>False</td>\n",
       "      <td>Restaurant</td>\n",
       "      <td>17</td>\n",
       "      <td>531 6TH, Los Angeles,USA</td>\n",
       "    </tr>\n",
       "    <tr>\n",
       "      <td>9405</td>\n",
       "      <td>21191</td>\n",
       "      <td>CAT CAFE  LOUNGE</td>\n",
       "      <td>1736 S SEPULVEDA BLVD</td>\n",
       "      <td>False</td>\n",
       "      <td>Restaurant</td>\n",
       "      <td>23</td>\n",
       "      <td>1736 SEPULVEDA, Los Angeles,USA</td>\n",
       "    </tr>\n",
       "    <tr>\n",
       "      <td>7416</td>\n",
       "      <td>19202</td>\n",
       "      <td>COFFEE BEAN &amp; TEA LEAF #348</td>\n",
       "      <td>9829 VENICE BLVD</td>\n",
       "      <td>True</td>\n",
       "      <td>Cafe</td>\n",
       "      <td>2</td>\n",
       "      <td>9829 VENICE, Los Angeles,USA</td>\n",
       "    </tr>\n",
       "    <tr>\n",
       "      <td>794</td>\n",
       "      <td>12580</td>\n",
       "      <td>COLOMBO'S ITALIAN STEAKHOUSE</td>\n",
       "      <td>1833 COLORADO BLVD</td>\n",
       "      <td>False</td>\n",
       "      <td>Restaurant</td>\n",
       "      <td>92</td>\n",
       "      <td>1833 COLORADO, Los Angeles,USA</td>\n",
       "    </tr>\n",
       "    <tr>\n",
       "      <td>6881</td>\n",
       "      <td>18667</td>\n",
       "      <td>ELA SERVICE CENTER</td>\n",
       "      <td>133 N SUNOL DR</td>\n",
       "      <td>False</td>\n",
       "      <td>Restaurant</td>\n",
       "      <td>36</td>\n",
       "      <td>133 SUNOL, Los Angeles,USA</td>\n",
       "    </tr>\n",
       "    <tr>\n",
       "      <td>1057</td>\n",
       "      <td>12843</td>\n",
       "      <td>SUBWAY</td>\n",
       "      <td>610 S RAMPART BLVD</td>\n",
       "      <td>True</td>\n",
       "      <td>Fast Food</td>\n",
       "      <td>22</td>\n",
       "      <td>610 RAMPART, Los Angeles,USA</td>\n",
       "    </tr>\n",
       "    <tr>\n",
       "      <td>8946</td>\n",
       "      <td>20732</td>\n",
       "      <td>ROCCO'S TAVERN</td>\n",
       "      <td>1000 GAYLEY AVE</td>\n",
       "      <td>True</td>\n",
       "      <td>Restaurant</td>\n",
       "      <td>134</td>\n",
       "      <td>1000 GAYLEY, Los Angeles,USA</td>\n",
       "    </tr>\n",
       "    <tr>\n",
       "      <td>8718</td>\n",
       "      <td>20504</td>\n",
       "      <td>TAPAS AND WINE BAR C</td>\n",
       "      <td>428 E 2ND ST</td>\n",
       "      <td>False</td>\n",
       "      <td>Bar</td>\n",
       "      <td>33</td>\n",
       "      <td>428 2ND, Los Angeles,USA</td>\n",
       "    </tr>\n",
       "    <tr>\n",
       "      <td>8069</td>\n",
       "      <td>19855</td>\n",
       "      <td>CALIFORNIA SALSA</td>\n",
       "      <td>201 N LOS ANGELES ST #104</td>\n",
       "      <td>False</td>\n",
       "      <td>Restaurant</td>\n",
       "      <td>45</td>\n",
       "      <td>201 ANGELES, Los Angeles,USA</td>\n",
       "    </tr>\n",
       "  </tbody>\n",
       "</table>\n",
       "</div>"
      ],
      "text/plain": [
       "         id                   object_name                    address  chain  \\\n",
       "563   12349                        TAKE 5    404 S FIGUEROA ST LVL E  False   \n",
       "5524  17310           SANDWICH SHOP CORP.               531 W 6TH ST  False   \n",
       "9405  21191              CAT CAFE  LOUNGE      1736 S SEPULVEDA BLVD  False   \n",
       "7416  19202   COFFEE BEAN & TEA LEAF #348           9829 VENICE BLVD   True   \n",
       "794   12580  COLOMBO'S ITALIAN STEAKHOUSE         1833 COLORADO BLVD  False   \n",
       "6881  18667            ELA SERVICE CENTER             133 N SUNOL DR  False   \n",
       "1057  12843                        SUBWAY         610 S RAMPART BLVD   True   \n",
       "8946  20732                ROCCO'S TAVERN            1000 GAYLEY AVE   True   \n",
       "8718  20504          TAPAS AND WINE BAR C               428 E 2ND ST  False   \n",
       "8069  19855              CALIFORNIA SALSA  201 N LOS ANGELES ST #104  False   \n",
       "\n",
       "     object_type  number                     clean_street  \n",
       "563   Restaurant      34    404 FIGUEROA, Los Angeles,USA  \n",
       "5524  Restaurant      17         531 6TH, Los Angeles,USA  \n",
       "9405  Restaurant      23  1736 SEPULVEDA, Los Angeles,USA  \n",
       "7416        Cafe       2     9829 VENICE, Los Angeles,USA  \n",
       "794   Restaurant      92   1833 COLORADO, Los Angeles,USA  \n",
       "6881  Restaurant      36       133 SUNOL, Los Angeles,USA  \n",
       "1057   Fast Food      22     610 RAMPART, Los Angeles,USA  \n",
       "8946  Restaurant     134     1000 GAYLEY, Los Angeles,USA  \n",
       "8718         Bar      33         428 2ND, Los Angeles,USA  \n",
       "8069  Restaurant      45     201 ANGELES, Los Angeles,USA  "
      ]
     },
     "execution_count": 6,
     "metadata": {},
     "output_type": "execute_result"
    }
   ],
   "source": [
    "data['clean_street']=data.address.apply(cleaning_final)\n",
    "data.sample(10)"
   ]
  },
  {
   "cell_type": "code",
   "execution_count": 7,
   "metadata": {},
   "outputs": [],
   "source": [
    "def cleaning_tag(raw):\n",
    "    try:\n",
    "        if raw.startswith('OLVERA'):\n",
    "            clean_adress='OLVERA,Los Angeles,USA'\n",
    "        elif raw.startswith('1033 1/2 LOS ANGELES'):\n",
    "            clean_adress='1033 1/2 LOS ANGELES ST,Los Angeles,USA'\n",
    "        elif raw.startswith('3425 E 1ST ST SO. 3RDFL'):\n",
    "            clean_adress='3425 E 1ST ST SO. 3RDFL'\n",
    "        else:\n",
    "            clean_adress=usaddress.tag(raw)[0]['StreetName']\n",
    "    except:\n",
    "        clean_adress='no street'\n",
    "    return clean_adress"
   ]
  },
  {
   "cell_type": "markdown",
   "metadata": {},
   "source": [
    "function for having the street tag left."
   ]
  },
  {
   "cell_type": "code",
   "execution_count": 8,
   "metadata": {},
   "outputs": [],
   "source": [
    "data['clean_street_tag']=data.address.apply(cleaning_tag)"
   ]
  },
  {
   "cell_type": "markdown",
   "metadata": {},
   "source": [
    "we have created clean street name out of address column."
   ]
  },
  {
   "cell_type": "code",
   "execution_count": 9,
   "metadata": {},
   "outputs": [
    {
     "data": {
      "text/html": [
       "<div>\n",
       "<style scoped>\n",
       "    .dataframe tbody tr th:only-of-type {\n",
       "        vertical-align: middle;\n",
       "    }\n",
       "\n",
       "    .dataframe tbody tr th {\n",
       "        vertical-align: top;\n",
       "    }\n",
       "\n",
       "    .dataframe thead th {\n",
       "        text-align: right;\n",
       "    }\n",
       "</style>\n",
       "<table border=\"1\" class=\"dataframe\">\n",
       "  <thead>\n",
       "    <tr style=\"text-align: right;\">\n",
       "      <th></th>\n",
       "      <th>id</th>\n",
       "      <th>object_name</th>\n",
       "      <th>address</th>\n",
       "      <th>chain</th>\n",
       "      <th>object_type</th>\n",
       "      <th>number</th>\n",
       "      <th>clean_street</th>\n",
       "      <th>clean_street_tag</th>\n",
       "    </tr>\n",
       "  </thead>\n",
       "  <tbody>\n",
       "    <tr>\n",
       "      <td>0</td>\n",
       "      <td>11786</td>\n",
       "      <td>HABITAT COFFEE SHOP</td>\n",
       "      <td>3708 N EAGLE ROCK BLVD</td>\n",
       "      <td>False</td>\n",
       "      <td>Cafe</td>\n",
       "      <td>26</td>\n",
       "      <td>3708 ROCK, Los Angeles,USA</td>\n",
       "      <td>EAGLE ROCK</td>\n",
       "    </tr>\n",
       "    <tr>\n",
       "      <td>1</td>\n",
       "      <td>11787</td>\n",
       "      <td>REILLY'S</td>\n",
       "      <td>100 WORLD WAY # 120</td>\n",
       "      <td>False</td>\n",
       "      <td>Restaurant</td>\n",
       "      <td>9</td>\n",
       "      <td>100 WORLD, Los Angeles,USA</td>\n",
       "      <td>WORLD</td>\n",
       "    </tr>\n",
       "    <tr>\n",
       "      <td>2</td>\n",
       "      <td>11788</td>\n",
       "      <td>STREET CHURROS</td>\n",
       "      <td>6801 HOLLYWOOD BLVD # 253</td>\n",
       "      <td>False</td>\n",
       "      <td>Fast Food</td>\n",
       "      <td>20</td>\n",
       "      <td>6801 HOLLYWOOD, Los Angeles,USA</td>\n",
       "      <td>HOLLYWOOD</td>\n",
       "    </tr>\n",
       "    <tr>\n",
       "      <td>3</td>\n",
       "      <td>11789</td>\n",
       "      <td>TRINITI ECHO PARK</td>\n",
       "      <td>1814 W SUNSET BLVD</td>\n",
       "      <td>False</td>\n",
       "      <td>Restaurant</td>\n",
       "      <td>22</td>\n",
       "      <td>1814 SUNSET, Los Angeles,USA</td>\n",
       "      <td>SUNSET</td>\n",
       "    </tr>\n",
       "    <tr>\n",
       "      <td>4</td>\n",
       "      <td>11790</td>\n",
       "      <td>POLLEN</td>\n",
       "      <td>2100 ECHO PARK AVE</td>\n",
       "      <td>False</td>\n",
       "      <td>Restaurant</td>\n",
       "      <td>20</td>\n",
       "      <td>2100 PARK, Los Angeles,USA</td>\n",
       "      <td>ECHO PARK</td>\n",
       "    </tr>\n",
       "  </tbody>\n",
       "</table>\n",
       "</div>"
      ],
      "text/plain": [
       "      id          object_name                    address  chain object_type  \\\n",
       "0  11786  HABITAT COFFEE SHOP     3708 N EAGLE ROCK BLVD  False        Cafe   \n",
       "1  11787             REILLY'S        100 WORLD WAY # 120  False  Restaurant   \n",
       "2  11788       STREET CHURROS  6801 HOLLYWOOD BLVD # 253  False   Fast Food   \n",
       "3  11789    TRINITI ECHO PARK         1814 W SUNSET BLVD  False  Restaurant   \n",
       "4  11790               POLLEN         2100 ECHO PARK AVE  False  Restaurant   \n",
       "\n",
       "   number                     clean_street clean_street_tag  \n",
       "0      26       3708 ROCK, Los Angeles,USA       EAGLE ROCK  \n",
       "1       9       100 WORLD, Los Angeles,USA            WORLD  \n",
       "2      20  6801 HOLLYWOOD, Los Angeles,USA        HOLLYWOOD  \n",
       "3      22     1814 SUNSET, Los Angeles,USA           SUNSET  \n",
       "4      20       2100 PARK, Los Angeles,USA        ECHO PARK  "
      ]
     },
     "execution_count": 9,
     "metadata": {},
     "output_type": "execute_result"
    }
   ],
   "source": [
    "data.head()"
   ]
  },
  {
   "cell_type": "code",
   "execution_count": 10,
   "metadata": {},
   "outputs": [
    {
     "data": {
      "text/plain": [
       "0"
      ]
     },
     "execution_count": 10,
     "metadata": {},
     "output_type": "execute_result"
    }
   ],
   "source": [
    "data.duplicated().sum()"
   ]
  },
  {
   "cell_type": "code",
   "execution_count": 11,
   "metadata": {},
   "outputs": [
    {
     "data": {
      "text/plain": [
       "id                  0\n",
       "object_name         0\n",
       "address             0\n",
       "chain               3\n",
       "object_type         0\n",
       "number              0\n",
       "clean_street        0\n",
       "clean_street_tag    0\n",
       "dtype: int64"
      ]
     },
     "execution_count": 11,
     "metadata": {},
     "output_type": "execute_result"
    }
   ],
   "source": [
    "data.isnull().sum()"
   ]
  },
  {
   "cell_type": "code",
   "execution_count": 12,
   "metadata": {},
   "outputs": [
    {
     "data": {
      "text/html": [
       "<div>\n",
       "<style scoped>\n",
       "    .dataframe tbody tr th:only-of-type {\n",
       "        vertical-align: middle;\n",
       "    }\n",
       "\n",
       "    .dataframe tbody tr th {\n",
       "        vertical-align: top;\n",
       "    }\n",
       "\n",
       "    .dataframe thead th {\n",
       "        text-align: right;\n",
       "    }\n",
       "</style>\n",
       "<table border=\"1\" class=\"dataframe\">\n",
       "  <thead>\n",
       "    <tr style=\"text-align: right;\">\n",
       "      <th></th>\n",
       "      <th>id</th>\n",
       "      <th>object_name</th>\n",
       "      <th>address</th>\n",
       "      <th>chain</th>\n",
       "      <th>object_type</th>\n",
       "      <th>number</th>\n",
       "      <th>clean_street</th>\n",
       "      <th>clean_street_tag</th>\n",
       "    </tr>\n",
       "  </thead>\n",
       "  <tbody>\n",
       "    <tr>\n",
       "      <td>7408</td>\n",
       "      <td>19194</td>\n",
       "      <td>TAQUERIA LOS 3 CARNALES</td>\n",
       "      <td>5000 E WHITTIER BLVD</td>\n",
       "      <td>NaN</td>\n",
       "      <td>Restaurant</td>\n",
       "      <td>14</td>\n",
       "      <td>5000 WHITTIER, Los Angeles,USA</td>\n",
       "      <td>WHITTIER</td>\n",
       "    </tr>\n",
       "    <tr>\n",
       "      <td>7523</td>\n",
       "      <td>19309</td>\n",
       "      <td>JAMMIN JIMMY'S PIZZA</td>\n",
       "      <td>1641 FIRESTONE BLVD</td>\n",
       "      <td>NaN</td>\n",
       "      <td>Pizza</td>\n",
       "      <td>1</td>\n",
       "      <td>1641 FIRESTONE, Los Angeles,USA</td>\n",
       "      <td>FIRESTONE</td>\n",
       "    </tr>\n",
       "    <tr>\n",
       "      <td>8648</td>\n",
       "      <td>20434</td>\n",
       "      <td>THE LEXINGTON THEATER</td>\n",
       "      <td>129 E 3RD ST</td>\n",
       "      <td>NaN</td>\n",
       "      <td>Restaurant</td>\n",
       "      <td>35</td>\n",
       "      <td>129 3RD, Los Angeles,USA</td>\n",
       "      <td>3RD</td>\n",
       "    </tr>\n",
       "  </tbody>\n",
       "</table>\n",
       "</div>"
      ],
      "text/plain": [
       "         id              object_name               address chain object_type  \\\n",
       "7408  19194  TAQUERIA LOS 3 CARNALES  5000 E WHITTIER BLVD   NaN  Restaurant   \n",
       "7523  19309     JAMMIN JIMMY'S PIZZA   1641 FIRESTONE BLVD   NaN       Pizza   \n",
       "8648  20434    THE LEXINGTON THEATER          129 E 3RD ST   NaN  Restaurant   \n",
       "\n",
       "      number                     clean_street clean_street_tag  \n",
       "7408      14   5000 WHITTIER, Los Angeles,USA         WHITTIER  \n",
       "7523       1  1641 FIRESTONE, Los Angeles,USA        FIRESTONE  \n",
       "8648      35         129 3RD, Los Angeles,USA              3RD  "
      ]
     },
     "execution_count": 12,
     "metadata": {},
     "output_type": "execute_result"
    }
   ],
   "source": [
    "data[data['chain'].isnull()]"
   ]
  },
  {
   "cell_type": "markdown",
   "metadata": {},
   "source": [
    "we have found three not-attributed places. Let's check weather they have connected to any chain."
   ]
  },
  {
   "cell_type": "code",
   "execution_count": 13,
   "metadata": {},
   "outputs": [],
   "source": [
    "w_tokenizer = nltk.tokenize.WhitespaceTokenizer()\n",
    "lemmatizer = nltk.stem.WordNetLemmatizer()\n",
    "def lemmatize_text(text):\n",
    "    return [lemmatizer.lemmatize(w) for w in w_tokenizer.tokenize(text)]\n",
    "data['lemmatized'] = data['object_name'].apply(lemmatize_text)"
   ]
  },
  {
   "cell_type": "markdown",
   "metadata": {},
   "source": [
    "we have created a new column for having each name lemmatized."
   ]
  },
  {
   "cell_type": "code",
   "execution_count": 14,
   "metadata": {},
   "outputs": [
    {
     "name": "stdout",
     "output_type": "stream",
     "text": [
      "id                                          18205\n",
      "object_name                    TACOS LOS CARNALES\n",
      "address                        4370 S CENTRAL AVE\n",
      "chain                                       False\n",
      "object_type                             Fast Food\n",
      "number                                         47\n",
      "clean_street        4370 CENTRAL, Los Angeles,USA\n",
      "clean_street_tag                          CENTRAL\n",
      "lemmatized                 [TACOS, LOS, CARNALES]\n",
      "Name: 6419, dtype: object\n",
      "id                                           18410\n",
      "object_name                   TACOS LOS 3 CARNALES\n",
      "address                         5000 WHITTIER BLVD\n",
      "chain                                        False\n",
      "object_type                              Fast Food\n",
      "number                                           6\n",
      "clean_street        5000 WHITTIER, Los Angeles,USA\n",
      "clean_street_tag                          WHITTIER\n",
      "lemmatized               [TACOS, LOS, 3, CARNALES]\n",
      "Name: 6624, dtype: object\n",
      "id                                           19194\n",
      "object_name                TAQUERIA LOS 3 CARNALES\n",
      "address                       5000 E WHITTIER BLVD\n",
      "chain                                          NaN\n",
      "object_type                             Restaurant\n",
      "number                                          14\n",
      "clean_street        5000 WHITTIER, Los Angeles,USA\n",
      "clean_street_tag                          WHITTIER\n",
      "lemmatized            [TAQUERIA, LOS, 3, CARNALES]\n",
      "Name: 7408, dtype: object\n",
      "id                                           21402\n",
      "object_name                   TACOS LOS 4 CARNALES\n",
      "address                         5000 WHITTIER BLVD\n",
      "chain                                        False\n",
      "object_type                              Fast Food\n",
      "number                                           9\n",
      "clean_street        5000 WHITTIER, Los Angeles,USA\n",
      "clean_street_tag                          WHITTIER\n",
      "lemmatized               [TACOS, LOS, 4, CARNALES]\n",
      "Name: 9616, dtype: object\n"
     ]
    }
   ],
   "source": [
    "for index, row in data.iterrows():\n",
    "    if 'CARNALES' in row[8]:\n",
    "        print(row)"
   ]
  },
  {
   "cell_type": "markdown",
   "metadata": {},
   "source": [
    "Even though every place seems to have positioned in the data as the non-chained place, they have slightly different names and seem to have similar addresses - 5000 WHITTIER BLVD- therefore, there might be a mistake in the data."
   ]
  },
  {
   "cell_type": "code",
   "execution_count": 15,
   "metadata": {},
   "outputs": [
    {
     "data": {
      "text/html": [
       "<div>\n",
       "<style scoped>\n",
       "    .dataframe tbody tr th:only-of-type {\n",
       "        vertical-align: middle;\n",
       "    }\n",
       "\n",
       "    .dataframe tbody tr th {\n",
       "        vertical-align: top;\n",
       "    }\n",
       "\n",
       "    .dataframe thead th {\n",
       "        text-align: right;\n",
       "    }\n",
       "</style>\n",
       "<table border=\"1\" class=\"dataframe\">\n",
       "  <thead>\n",
       "    <tr style=\"text-align: right;\">\n",
       "      <th></th>\n",
       "      <th>id</th>\n",
       "      <th>object_name</th>\n",
       "      <th>address</th>\n",
       "      <th>chain</th>\n",
       "      <th>object_type</th>\n",
       "      <th>number</th>\n",
       "      <th>clean_street</th>\n",
       "      <th>clean_street_tag</th>\n",
       "      <th>lemmatized</th>\n",
       "    </tr>\n",
       "  </thead>\n",
       "  <tbody>\n",
       "    <tr>\n",
       "      <td>6624</td>\n",
       "      <td>18410</td>\n",
       "      <td>TACOS LOS 3 CARNALES</td>\n",
       "      <td>5000 WHITTIER BLVD</td>\n",
       "      <td>False</td>\n",
       "      <td>Fast Food</td>\n",
       "      <td>6</td>\n",
       "      <td>5000 WHITTIER, Los Angeles,USA</td>\n",
       "      <td>WHITTIER</td>\n",
       "      <td>[TACOS, LOS, 3, CARNALES]</td>\n",
       "    </tr>\n",
       "    <tr>\n",
       "      <td>9616</td>\n",
       "      <td>21402</td>\n",
       "      <td>TACOS LOS 4 CARNALES</td>\n",
       "      <td>5000 WHITTIER BLVD</td>\n",
       "      <td>False</td>\n",
       "      <td>Fast Food</td>\n",
       "      <td>9</td>\n",
       "      <td>5000 WHITTIER, Los Angeles,USA</td>\n",
       "      <td>WHITTIER</td>\n",
       "      <td>[TACOS, LOS, 4, CARNALES]</td>\n",
       "    </tr>\n",
       "  </tbody>\n",
       "</table>\n",
       "</div>"
      ],
      "text/plain": [
       "         id           object_name             address  chain object_type  \\\n",
       "6624  18410  TACOS LOS 3 CARNALES  5000 WHITTIER BLVD  False   Fast Food   \n",
       "9616  21402  TACOS LOS 4 CARNALES  5000 WHITTIER BLVD  False   Fast Food   \n",
       "\n",
       "      number                    clean_street clean_street_tag  \\\n",
       "6624       6  5000 WHITTIER, Los Angeles,USA         WHITTIER   \n",
       "9616       9  5000 WHITTIER, Los Angeles,USA         WHITTIER   \n",
       "\n",
       "                     lemmatized  \n",
       "6624  [TACOS, LOS, 3, CARNALES]  \n",
       "9616  [TACOS, LOS, 4, CARNALES]  "
      ]
     },
     "execution_count": 15,
     "metadata": {},
     "output_type": "execute_result"
    }
   ],
   "source": [
    "data[data['address']== '5000 WHITTIER BLVD']"
   ]
  },
  {
   "cell_type": "code",
   "execution_count": 16,
   "metadata": {},
   "outputs": [
    {
     "data": {
      "text/plain": [
       "'chain'"
      ]
     },
     "execution_count": 16,
     "metadata": {},
     "output_type": "execute_result"
    }
   ],
   "source": [
    "data.columns[3]"
   ]
  },
  {
   "cell_type": "code",
   "execution_count": 17,
   "metadata": {},
   "outputs": [],
   "source": [
    "for index, row in data.iterrows():\n",
    "    if 'CARNALES' in row[8]:\n",
    "        row[3] = True\n",
    "data = data[~(data['address'] == '5000 E WHITTIER BLVD')]\n",
    "data = data[~(data['object_name'] == 'TACOS LOS 4 CARNALES')]"
   ]
  },
  {
   "cell_type": "code",
   "execution_count": 18,
   "metadata": {},
   "outputs": [
    {
     "name": "stdout",
     "output_type": "stream",
     "text": [
      "id                                      20434\n",
      "object_name             THE LEXINGTON THEATER\n",
      "address                          129 E 3RD ST\n",
      "chain                                     NaN\n",
      "object_type                        Restaurant\n",
      "number                                     35\n",
      "clean_street         129 3RD, Los Angeles,USA\n",
      "clean_street_tag                          3RD\n",
      "lemmatized          [THE, LEXINGTON, THEATER]\n",
      "Name: 8648, dtype: object\n"
     ]
    }
   ],
   "source": [
    "for index, row in data.iterrows():\n",
    "    if 'LEXINGTON' in row[8]:\n",
    "        print(row)\n",
    "        \n"
   ]
  },
  {
   "cell_type": "code",
   "execution_count": 19,
   "metadata": {},
   "outputs": [
    {
     "name": "stdout",
     "output_type": "stream",
     "text": [
      "id                                          18576\n",
      "object_name                        WI JAMMIN CAFE\n",
      "address                       1359 S REDONDO BLVD\n",
      "chain                                       False\n",
      "object_type                            Restaurant\n",
      "number                                         28\n",
      "clean_street        1359 REDONDO, Los Angeles,USA\n",
      "clean_street_tag                          REDONDO\n",
      "lemmatized                     [WI, JAMMIN, CAFE]\n",
      "Name: 6790, dtype: object\n",
      "id                                            19309\n",
      "object_name                    JAMMIN JIMMY'S PIZZA\n",
      "address                         1641 FIRESTONE BLVD\n",
      "chain                                           NaN\n",
      "object_type                                   Pizza\n",
      "number                                            1\n",
      "clean_street        1641 FIRESTONE, Los Angeles,USA\n",
      "clean_street_tag                          FIRESTONE\n",
      "lemmatized                 [JAMMIN, JIMMY'S, PIZZA]\n",
      "Name: 7523, dtype: object\n"
     ]
    }
   ],
   "source": [
    "for index, row in data.iterrows():\n",
    "    if 'JAMMIN' in row[8]:\n",
    "        print(row)\n"
   ]
  },
  {
   "cell_type": "code",
   "execution_count": 20,
   "metadata": {},
   "outputs": [
    {
     "data": {
      "text/plain": [
       "False    5971\n",
       "True     3676\n",
       "Name: chain, dtype: int64"
      ]
     },
     "execution_count": 20,
     "metadata": {},
     "output_type": "execute_result"
    }
   ],
   "source": [
    "data['chain'].replace({'NaN':\"False\"}, inplace = True)\n",
    "data['chain'].value_counts()"
   ]
  },
  {
   "cell_type": "markdown",
   "metadata": {},
   "source": [
    "##### Conclusion part 1"
   ]
  },
  {
   "cell_type": "markdown",
   "metadata": {},
   "source": [
    "We have downloaded the data, created clean street tags and clean address columns, and removed the chain column's NaN values. The data seem to be ready for analysis."
   ]
  },
  {
   "cell_type": "markdown",
   "metadata": {},
   "source": [
    "# Part 2. <a class=\"anchor\" id=\"st2\"></a>"
   ]
  },
  {
   "cell_type": "markdown",
   "metadata": {},
   "source": [
    "- Investigate the prorportions of the various types of establishments. Plot a graph."
   ]
  },
  {
   "cell_type": "code",
   "execution_count": 21,
   "metadata": {},
   "outputs": [],
   "source": [
    "establishments = data.groupby('object_type')['object_name'].count().reset_index()\n",
    "establishments.sort_values(by = 'object_name', inplace=True)"
   ]
  },
  {
   "cell_type": "code",
   "execution_count": 22,
   "metadata": {},
   "outputs": [
    {
     "data": {
      "text/html": [
       "<div>\n",
       "<style scoped>\n",
       "    .dataframe tbody tr th:only-of-type {\n",
       "        vertical-align: middle;\n",
       "    }\n",
       "\n",
       "    .dataframe tbody tr th {\n",
       "        vertical-align: top;\n",
       "    }\n",
       "\n",
       "    .dataframe thead th {\n",
       "        text-align: right;\n",
       "    }\n",
       "</style>\n",
       "<table border=\"1\" class=\"dataframe\">\n",
       "  <thead>\n",
       "    <tr style=\"text-align: right;\">\n",
       "      <th></th>\n",
       "      <th>object_type</th>\n",
       "      <th>object_name</th>\n",
       "    </tr>\n",
       "  </thead>\n",
       "  <tbody>\n",
       "    <tr>\n",
       "      <td>0</td>\n",
       "      <td>Bakery</td>\n",
       "      <td>283</td>\n",
       "    </tr>\n",
       "    <tr>\n",
       "      <td>1</td>\n",
       "      <td>Bar</td>\n",
       "      <td>292</td>\n",
       "    </tr>\n",
       "    <tr>\n",
       "      <td>4</td>\n",
       "      <td>Pizza</td>\n",
       "      <td>320</td>\n",
       "    </tr>\n",
       "    <tr>\n",
       "      <td>2</td>\n",
       "      <td>Cafe</td>\n",
       "      <td>435</td>\n",
       "    </tr>\n",
       "    <tr>\n",
       "      <td>3</td>\n",
       "      <td>Fast Food</td>\n",
       "      <td>1065</td>\n",
       "    </tr>\n",
       "    <tr>\n",
       "      <td>5</td>\n",
       "      <td>Restaurant</td>\n",
       "      <td>7254</td>\n",
       "    </tr>\n",
       "  </tbody>\n",
       "</table>\n",
       "</div>"
      ],
      "text/plain": [
       "  object_type  object_name\n",
       "0      Bakery          283\n",
       "1         Bar          292\n",
       "4       Pizza          320\n",
       "2        Cafe          435\n",
       "3   Fast Food         1065\n",
       "5  Restaurant         7254"
      ]
     },
     "execution_count": 22,
     "metadata": {},
     "output_type": "execute_result"
    }
   ],
   "source": [
    "establishments"
   ]
  },
  {
   "cell_type": "code",
   "execution_count": 23,
   "metadata": {},
   "outputs": [
    {
     "data": {
      "image/png": "[encoded data removed]",
      "text/plain": [
       "<Figure size 720x792 with 1 Axes>"
      ]
     },
     "metadata": {},
     "output_type": "display_data"
    }
   ],
   "source": [
    "import matplotlib as mpl\n",
    "mpl.rcParams['font.size'] = 13.0\n",
    "cmap = plt.get_cmap('Spectral')\n",
    "sizes = establishments['object_name']\n",
    "labels = establishments['object_type']\n",
    "colors = [cmap(i) for i in np.linspace(0, 1, 24)]\n",
    "the_grid = GridSpec(4, 3)\n",
    "#plt.subplot(the_grid[0, 1], aspect=1, title=\"Establishments by type\")\n",
    "plt.figure(figsize = (10,11))\n",
    "plt.pie(x=sizes, autopct=\"%.1f%%\", labels=labels, colors= colors, pctdistance=0.85, rotatelabels =False, startangle=90)\n",
    "centre_circle = plt.Circle((0,0),0.62,fc='white')\n",
    "fig = plt.gcf()\n",
    "fig.gca().add_artist(centre_circle)\n",
    "\n",
    "\n",
    "plt.show()"
   ]
  },
  {
   "cell_type": "markdown",
   "metadata": {},
   "source": [
    "As we can see, coffee shops make up only 4.5% of the establishments in LA. The most popular types of establishments are restaurants."
   ]
  },
  {
   "cell_type": "markdown",
   "metadata": {},
   "source": [
    "- Investigate proportions of chain and non-chain establishments. Plot a graph."
   ]
  },
  {
   "cell_type": "code",
   "execution_count": 24,
   "metadata": {},
   "outputs": [
    {
     "data": {
      "text/html": [
       "<div>\n",
       "<style scoped>\n",
       "    .dataframe tbody tr th:only-of-type {\n",
       "        vertical-align: middle;\n",
       "    }\n",
       "\n",
       "    .dataframe tbody tr th {\n",
       "        vertical-align: top;\n",
       "    }\n",
       "\n",
       "    .dataframe thead th {\n",
       "        text-align: right;\n",
       "    }\n",
       "</style>\n",
       "<table border=\"1\" class=\"dataframe\">\n",
       "  <thead>\n",
       "    <tr style=\"text-align: right;\">\n",
       "      <th></th>\n",
       "      <th>chain</th>\n",
       "      <th>object_type</th>\n",
       "      <th>object_name</th>\n",
       "    </tr>\n",
       "  </thead>\n",
       "  <tbody>\n",
       "    <tr>\n",
       "      <td>0</td>\n",
       "      <td>False</td>\n",
       "      <td>Bar</td>\n",
       "      <td>215</td>\n",
       "    </tr>\n",
       "    <tr>\n",
       "      <td>1</td>\n",
       "      <td>False</td>\n",
       "      <td>Cafe</td>\n",
       "      <td>169</td>\n",
       "    </tr>\n",
       "    <tr>\n",
       "      <td>2</td>\n",
       "      <td>False</td>\n",
       "      <td>Fast Food</td>\n",
       "      <td>460</td>\n",
       "    </tr>\n",
       "    <tr>\n",
       "      <td>3</td>\n",
       "      <td>False</td>\n",
       "      <td>Pizza</td>\n",
       "      <td>166</td>\n",
       "    </tr>\n",
       "    <tr>\n",
       "      <td>4</td>\n",
       "      <td>False</td>\n",
       "      <td>Restaurant</td>\n",
       "      <td>4961</td>\n",
       "    </tr>\n",
       "    <tr>\n",
       "      <td>5</td>\n",
       "      <td>True</td>\n",
       "      <td>Bakery</td>\n",
       "      <td>283</td>\n",
       "    </tr>\n",
       "    <tr>\n",
       "      <td>6</td>\n",
       "      <td>True</td>\n",
       "      <td>Bar</td>\n",
       "      <td>77</td>\n",
       "    </tr>\n",
       "    <tr>\n",
       "      <td>7</td>\n",
       "      <td>True</td>\n",
       "      <td>Cafe</td>\n",
       "      <td>266</td>\n",
       "    </tr>\n",
       "    <tr>\n",
       "      <td>8</td>\n",
       "      <td>True</td>\n",
       "      <td>Fast Food</td>\n",
       "      <td>605</td>\n",
       "    </tr>\n",
       "    <tr>\n",
       "      <td>9</td>\n",
       "      <td>True</td>\n",
       "      <td>Pizza</td>\n",
       "      <td>153</td>\n",
       "    </tr>\n",
       "    <tr>\n",
       "      <td>10</td>\n",
       "      <td>True</td>\n",
       "      <td>Restaurant</td>\n",
       "      <td>2292</td>\n",
       "    </tr>\n",
       "  </tbody>\n",
       "</table>\n",
       "</div>"
      ],
      "text/plain": [
       "    chain object_type  object_name\n",
       "0   False         Bar          215\n",
       "1   False        Cafe          169\n",
       "2   False   Fast Food          460\n",
       "3   False       Pizza          166\n",
       "4   False  Restaurant         4961\n",
       "5    True      Bakery          283\n",
       "6    True         Bar           77\n",
       "7    True        Cafe          266\n",
       "8    True   Fast Food          605\n",
       "9    True       Pizza          153\n",
       "10   True  Restaurant         2292"
      ]
     },
     "execution_count": 24,
     "metadata": {},
     "output_type": "execute_result"
    }
   ],
   "source": [
    "establishments = data.groupby(['chain', 'object_type'])['object_name'].count().reset_index()\n",
    "establishments "
   ]
  },
  {
   "cell_type": "code",
   "execution_count": 25,
   "metadata": {},
   "outputs": [
    {
     "data": {
      "image/png": "[encoded data removed]",
      "text/plain": [
       "<Figure size 842.4x595.44 with 1 Axes>"
      ]
     },
     "metadata": {},
     "output_type": "display_data"
    }
   ],
   "source": [
    "fig, ax = plt.subplots(figsize=(11.7, 8.27))\n",
    "labels = establishments['object_name']\n",
    "splot=sns.barplot(data = establishments, x = 'object_type', y = 'object_name', hue = 'chain', ax=ax)\n",
    "for p in splot.patches:\n",
    "    splot.annotate(format(p.get_height(), '.1f'), \n",
    "                   (p.get_x() + p.get_width() / 2., p.get_height()), \n",
    "                   ha = 'center', va = 'center', \n",
    "                   size=12,\n",
    "                   xytext = (1, -7), \n",
    "                   textcoords = 'offset points')\n",
    "plt.title('Proportions of chain and non-chain establishments')\n",
    "plt.ylabel('Establishments amount')\n",
    "plt.xlabel('Type of establishment')\n",
    "plt.legend()\n",
    "plt.show()"
   ]
  },
  {
   "cell_type": "raw",
   "metadata": {},
   "source": [
    "As we can see, there are much more restaurants that are not part of the chain than the chained restaurants. We can also notice that they're many more chained fast-food places than owned by private owners."
   ]
  },
  {
   "cell_type": "markdown",
   "metadata": {},
   "source": [
    "- Which type of establishment is typycally a chain?"
   ]
  },
  {
   "cell_type": "markdown",
   "metadata": {},
   "source": [
    "According to the previous graphs there's no establishments of the bakery type, which are not chains."
   ]
  },
  {
   "cell_type": "markdown",
   "metadata": {},
   "source": [
    "- What characterizes chains: many establishments with a small number of seats or a few establishments with a lot of seats? "
   ]
  },
  {
   "cell_type": "code",
   "execution_count": 26,
   "metadata": {},
   "outputs": [],
   "source": [
    "chains = data[data['chain'] == True] \n",
    "nchains = data[data['chain'] == False] \n"
   ]
  },
  {
   "cell_type": "code",
   "execution_count": 27,
   "metadata": {},
   "outputs": [
    {
     "name": "stdout",
     "output_type": "stream",
     "text": [
      "RESTAURANT 643\n",
      "BAKERY 277\n",
      "COFFEE 216\n",
      "& 204\n",
      "THE 184\n",
      "FOOD 162\n",
      "EL 153\n",
      "PIZZA 152\n",
      "SUBWAY 151\n",
      "CAFE 149\n",
      "STARBUCKS 127\n",
      "LA 117\n",
      "DELI 96\n",
      "EXPRESS 89\n",
      "# 85\n",
      "MCDONALD'S 82\n",
      "TEA 82\n",
      "AND 81\n",
      "GRILL 75\n",
      "MEXICAN 70\n",
      "LEAF 68\n",
      "BURGER 66\n",
      "KING 66\n",
      "BEAN 66\n",
      "JUICE 62\n",
      "DONUTS 60\n",
      "CHINESE 59\n",
      "IN 57\n",
      "CHICKEN 56\n",
      "BAR 56\n",
      "BOX 55\n",
      "JACK 53\n",
      "TACO 52\n",
      "THAI 49\n",
      "SUSHI 49\n",
      "HOUSE 47\n",
      "KITCHEN 47\n",
      "POLLO 46\n",
      "SEAFOOD 43\n",
      "LITTLE 42\n",
      "FRIED 41\n",
      "LOCO 39\n",
      "PANDA 37\n",
      "LOS 37\n",
      "RESTAURANTE 37\n",
      "TACOS 34\n",
      "MARKET 34\n",
      "BELL 33\n",
      "DONUT 32\n",
      "YUM 32\n",
      "HUT 31\n",
      "DOMINO'S 30\n",
      "YOSHINOYA 29\n",
      "BOBA 28\n",
      "CHINA 28\n",
      "HONG 26\n",
      "TRIMANA 26\n",
      "CARL'S 25\n",
      "KONG 25\n",
      "FAST 25\n",
      "JR 24\n",
      "FOODS 24\n",
      "JOHN'S 24\n",
      "FRESH 23\n",
      "LOUISIANA 23\n",
      "INC 23\n",
      "Y 23\n",
      "- 22\n",
      "ROCK 22\n",
      "CHIPOTLE 22\n"
     ]
    }
   ],
   "source": [
    "frequencies = Counter(word for sentence in chains['lemmatized'] for word in sentence)\n",
    "for word, frequency in frequencies.most_common(70):\n",
    "    print(word, frequency)"
   ]
  },
  {
   "cell_type": "code",
   "execution_count": 28,
   "metadata": {},
   "outputs": [],
   "source": [
    "for index, row in chains.iterrows():\n",
    "    if 'STARBUCKS' in row[8]:\n",
    "        row[2]='STARBUCKS'\n",
    "    if 'SUBWAY' in row[8]:\n",
    "        row[2] = 'SUBWAY'\n",
    "    if  'MCDONALD\\S' in row[8]:\n",
    "        row[2] = 'MCDONALD\\'S'\n",
    "    if 'DOMINO\\'S' in row[8]:\n",
    "        row[2] = 'Domino\\'s pizza'"
   ]
  },
  {
   "cell_type": "markdown",
   "metadata": {},
   "source": [
    "Ensuring the biggest chains are fully represented."
   ]
  },
  {
   "cell_type": "code",
   "execution_count": 29,
   "metadata": {},
   "outputs": [],
   "source": [
    "chains_names = chains.object_name.value_counts().reset_index()\n",
    "one_plc_chain_names =  chains_names[chains_names['object_name']==1]\n",
    "one_plc_chain = chains[chains['object_name'].isin(one_plc_chain_names['index'])]\n",
    "chains = chains[~chains['object_name'].isin(one_plc_chain['object_name'])]\n",
    "chains= chains.reset_index()"
   ]
  },
  {
   "cell_type": "markdown",
   "metadata": {},
   "source": [
    "Creating dataframes for saving none chained and chained places separately."
   ]
  },
  {
   "cell_type": "code",
   "execution_count": 30,
   "metadata": {},
   "outputs": [],
   "source": [
    "chainss = chains.groupby('object_name').agg({'number':'mean', 'address':'count'}).reset_index()\n",
    "chainss.columns = ['object_name','number_of_seats', 'places_in_chain']"
   ]
  },
  {
   "cell_type": "code",
   "execution_count": 31,
   "metadata": {},
   "outputs": [
    {
     "data": {
      "image/png": "[encoded data removed]",
      "text/plain": [
       "<Figure size 842.4x595.44 with 1 Axes>"
      ]
     },
     "metadata": {},
     "output_type": "display_data"
    }
   ],
   "source": [
    "fig, ax = plt.subplots(figsize=(11.7, 8.27))\n",
    "#sns.color_palette(\"vlag\", as_cmap=True)\n",
    "sns.scatterplot(data=chainss, x= 'places_in_chain', y = 'number_of_seats', ax = ax, palette = 'bright', color='r')\n",
    "plt.title('Relation of seats to places in chains')\n",
    "plt.ylabel('Number of seats')\n",
    "plt.xlabel('Places in chain')\n",
    "plt.show()"
   ]
  },
  {
   "cell_type": "markdown",
   "metadata": {},
   "source": [
    "As we can see, most of the places in chains are few establishments with many seats."
   ]
  },
  {
   "cell_type": "markdown",
   "metadata": {},
   "source": [
    "- Determine the average number of seats for each type of restaurant. On average, which type of restaurant has the greatest number of seats?"
   ]
  },
  {
   "cell_type": "code",
   "execution_count": 32,
   "metadata": {},
   "outputs": [],
   "source": [
    "number = data.groupby(['chain'])['number'].mean().reset_index()"
   ]
  },
  {
   "cell_type": "code",
   "execution_count": 33,
   "metadata": {},
   "outputs": [
    {
     "data": {
      "text/html": [
       "<div>\n",
       "<style scoped>\n",
       "    .dataframe tbody tr th:only-of-type {\n",
       "        vertical-align: middle;\n",
       "    }\n",
       "\n",
       "    .dataframe tbody tr th {\n",
       "        vertical-align: top;\n",
       "    }\n",
       "\n",
       "    .dataframe thead th {\n",
       "        text-align: right;\n",
       "    }\n",
       "</style>\n",
       "<table border=\"1\" class=\"dataframe\">\n",
       "  <thead>\n",
       "    <tr style=\"text-align: right;\">\n",
       "      <th></th>\n",
       "      <th>chain</th>\n",
       "      <th>number</th>\n",
       "    </tr>\n",
       "  </thead>\n",
       "  <tbody>\n",
       "    <tr>\n",
       "      <td>0</td>\n",
       "      <td>False</td>\n",
       "      <td>46.18</td>\n",
       "    </tr>\n",
       "    <tr>\n",
       "      <td>1</td>\n",
       "      <td>True</td>\n",
       "      <td>39.69</td>\n",
       "    </tr>\n",
       "  </tbody>\n",
       "</table>\n",
       "</div>"
      ],
      "text/plain": [
       "   chain  number\n",
       "0  False   46.18\n",
       "1   True   39.69"
      ]
     },
     "execution_count": 33,
     "metadata": {},
     "output_type": "execute_result"
    }
   ],
   "source": [
    "number.number = round(number.number, 2)\n",
    "number"
   ]
  },
  {
   "cell_type": "markdown",
   "metadata": {},
   "source": [
    "We can see that the average amount of seats for the chained places is lower than for the private ones. Let's see how it corresponds with the type of place."
   ]
  },
  {
   "cell_type": "code",
   "execution_count": 34,
   "metadata": {},
   "outputs": [
    {
     "data": {
      "text/html": [
       "<div>\n",
       "<style scoped>\n",
       "    .dataframe tbody tr th:only-of-type {\n",
       "        vertical-align: middle;\n",
       "    }\n",
       "\n",
       "    .dataframe tbody tr th {\n",
       "        vertical-align: top;\n",
       "    }\n",
       "\n",
       "    .dataframe thead th {\n",
       "        text-align: right;\n",
       "    }\n",
       "</style>\n",
       "<table border=\"1\" class=\"dataframe\">\n",
       "  <thead>\n",
       "    <tr style=\"text-align: right;\">\n",
       "      <th></th>\n",
       "      <th>chain</th>\n",
       "      <th>object_type</th>\n",
       "      <th>number</th>\n",
       "    </tr>\n",
       "  </thead>\n",
       "  <tbody>\n",
       "    <tr>\n",
       "      <td>5</td>\n",
       "      <td>True</td>\n",
       "      <td>Bakery</td>\n",
       "      <td>21.77</td>\n",
       "    </tr>\n",
       "    <tr>\n",
       "      <td>1</td>\n",
       "      <td>False</td>\n",
       "      <td>Cafe</td>\n",
       "      <td>23.56</td>\n",
       "    </tr>\n",
       "    <tr>\n",
       "      <td>2</td>\n",
       "      <td>False</td>\n",
       "      <td>Fast Food</td>\n",
       "      <td>23.67</td>\n",
       "    </tr>\n",
       "    <tr>\n",
       "      <td>9</td>\n",
       "      <td>True</td>\n",
       "      <td>Pizza</td>\n",
       "      <td>25.53</td>\n",
       "    </tr>\n",
       "    <tr>\n",
       "      <td>7</td>\n",
       "      <td>True</td>\n",
       "      <td>Cafe</td>\n",
       "      <td>25.92</td>\n",
       "    </tr>\n",
       "    <tr>\n",
       "      <td>3</td>\n",
       "      <td>False</td>\n",
       "      <td>Pizza</td>\n",
       "      <td>31.33</td>\n",
       "    </tr>\n",
       "    <tr>\n",
       "      <td>8</td>\n",
       "      <td>True</td>\n",
       "      <td>Fast Food</td>\n",
       "      <td>38.09</td>\n",
       "    </tr>\n",
       "    <tr>\n",
       "      <td>6</td>\n",
       "      <td>True</td>\n",
       "      <td>Bar</td>\n",
       "      <td>40.26</td>\n",
       "    </tr>\n",
       "    <tr>\n",
       "      <td>10</td>\n",
       "      <td>True</td>\n",
       "      <td>Restaurant</td>\n",
       "      <td>44.86</td>\n",
       "    </tr>\n",
       "    <tr>\n",
       "      <td>0</td>\n",
       "      <td>False</td>\n",
       "      <td>Bar</td>\n",
       "      <td>46.38</td>\n",
       "    </tr>\n",
       "    <tr>\n",
       "      <td>4</td>\n",
       "      <td>False</td>\n",
       "      <td>Restaurant</td>\n",
       "      <td>49.52</td>\n",
       "    </tr>\n",
       "  </tbody>\n",
       "</table>\n",
       "</div>"
      ],
      "text/plain": [
       "    chain object_type  number\n",
       "5    True      Bakery   21.77\n",
       "1   False        Cafe   23.56\n",
       "2   False   Fast Food   23.67\n",
       "9    True       Pizza   25.53\n",
       "7    True        Cafe   25.92\n",
       "3   False       Pizza   31.33\n",
       "8    True   Fast Food   38.09\n",
       "6    True         Bar   40.26\n",
       "10   True  Restaurant   44.86\n",
       "0   False         Bar   46.38\n",
       "4   False  Restaurant   49.52"
      ]
     },
     "execution_count": 34,
     "metadata": {},
     "output_type": "execute_result"
    }
   ],
   "source": [
    "seats = data.groupby(['chain', 'object_type']).agg({'number':'mean'}).reset_index()\n",
    "seats.number = round(seats.number, 2)\n",
    "seats.sort_values(by='number', inplace = True)\n",
    "seats"
   ]
  },
  {
   "cell_type": "code",
   "execution_count": 35,
   "metadata": {},
   "outputs": [],
   "source": [
    "seats.chain = seats.chain.astype('str')\n",
    "seats.chain = seats.chain.replace(regex = 'True', value='chained')\n",
    "seats.chain = seats.chain.replace(regex ='False', value = 'non-chained')"
   ]
  },
  {
   "cell_type": "code",
   "execution_count": 36,
   "metadata": {},
   "outputs": [
    {
     "data": {
      "image/png": "[encoded data removed]",
      "text/plain": [
       "<Figure size 842.4x595.44 with 1 Axes>"
      ]
     },
     "metadata": {},
     "output_type": "display_data"
    }
   ],
   "source": [
    "fig, ax = plt.subplots(figsize=(11.7, 8.27))\n",
    "splot = sns.barplot(data = seats, x = 'object_type', y = 'number', hue = 'chain', dodge=True, \n",
    "                     ax=ax)\n",
    "for p in splot.patches:\n",
    "    splot.annotate(format(p.get_height(), '.1f'), \n",
    "                   (p.get_x() + p.get_width() / 2., p.get_height()), \n",
    "                   ha = 'center', va = 'center', \n",
    "                   size=12,\n",
    "                   xytext = (1, -7), \n",
    "                   textcoords = 'offset points')\n",
    "g=plt.title('Proportions of chain and non-chain number of seats')\n",
    "plt.legend()\n",
    "plt.show()\n"
   ]
  },
  {
   "cell_type": "markdown",
   "metadata": {},
   "source": [
    "We have calculated the average number of seats for chained and non-chained establishments. As we can see, the trend differs among different types of establishments. Non-chained bars, pizzas, and restaurants have more seats than chained places of the same type. Non-chained cafes, fast-food, and bakeries have, on average fewer seats than chained establishments.  I suppose that the general trend is the economy. The chained places represent the whole system and can afford themselves more expenses on having fewer customers in places like restaurants and bars, while places like fast food and bakeries don't have to have seated places."
   ]
  },
  {
   "cell_type": "markdown",
   "metadata": {},
   "source": [
    "- Plot the graph on the top 10 streets by number of restaurants"
   ]
  },
  {
   "cell_type": "code",
   "execution_count": 37,
   "metadata": {},
   "outputs": [],
   "source": [
    "rests = data[data['object_type']== 'Restaurant' ]\n",
    "street = rests.groupby('clean_street_tag')['object_name'].count().sort_values(ascending=False).reset_index()\n"
   ]
  },
  {
   "cell_type": "code",
   "execution_count": 38,
   "metadata": {},
   "outputs": [],
   "source": [
    "street.columns = ['street_name', 'number_of_restaurants']"
   ]
  },
  {
   "cell_type": "code",
   "execution_count": 39,
   "metadata": {},
   "outputs": [
    {
     "data": {
      "text/html": [
       "<div>\n",
       "<style scoped>\n",
       "    .dataframe tbody tr th:only-of-type {\n",
       "        vertical-align: middle;\n",
       "    }\n",
       "\n",
       "    .dataframe tbody tr th {\n",
       "        vertical-align: top;\n",
       "    }\n",
       "\n",
       "    .dataframe thead th {\n",
       "        text-align: right;\n",
       "    }\n",
       "</style>\n",
       "<table border=\"1\" class=\"dataframe\">\n",
       "  <thead>\n",
       "    <tr style=\"text-align: right;\">\n",
       "      <th></th>\n",
       "      <th>street_name</th>\n",
       "      <th>number_of_restaurants</th>\n",
       "    </tr>\n",
       "  </thead>\n",
       "  <tbody>\n",
       "    <tr>\n",
       "      <td>0</td>\n",
       "      <td>WILSHIRE</td>\n",
       "      <td>319</td>\n",
       "    </tr>\n",
       "    <tr>\n",
       "      <td>1</td>\n",
       "      <td>SUNSET</td>\n",
       "      <td>297</td>\n",
       "    </tr>\n",
       "    <tr>\n",
       "      <td>2</td>\n",
       "      <td>WESTERN</td>\n",
       "      <td>292</td>\n",
       "    </tr>\n",
       "    <tr>\n",
       "      <td>3</td>\n",
       "      <td>PICO</td>\n",
       "      <td>283</td>\n",
       "    </tr>\n",
       "    <tr>\n",
       "      <td>4</td>\n",
       "      <td>OLYMPIC</td>\n",
       "      <td>257</td>\n",
       "    </tr>\n",
       "    <tr>\n",
       "      <td>5</td>\n",
       "      <td>FIGUEROA</td>\n",
       "      <td>234</td>\n",
       "    </tr>\n",
       "    <tr>\n",
       "      <td>6</td>\n",
       "      <td>VERMONT</td>\n",
       "      <td>218</td>\n",
       "    </tr>\n",
       "    <tr>\n",
       "      <td>7</td>\n",
       "      <td>3RD</td>\n",
       "      <td>208</td>\n",
       "    </tr>\n",
       "    <tr>\n",
       "      <td>8</td>\n",
       "      <td>SANTA MONICA</td>\n",
       "      <td>204</td>\n",
       "    </tr>\n",
       "    <tr>\n",
       "      <td>9</td>\n",
       "      <td>HOLLYWOOD</td>\n",
       "      <td>197</td>\n",
       "    </tr>\n",
       "  </tbody>\n",
       "</table>\n",
       "</div>"
      ],
      "text/plain": [
       "    street_name  number_of_restaurants\n",
       "0      WILSHIRE                    319\n",
       "1        SUNSET                    297\n",
       "2       WESTERN                    292\n",
       "3          PICO                    283\n",
       "4       OLYMPIC                    257\n",
       "5      FIGUEROA                    234\n",
       "6       VERMONT                    218\n",
       "7           3RD                    208\n",
       "8  SANTA MONICA                    204\n",
       "9     HOLLYWOOD                    197"
      ]
     },
     "execution_count": 39,
     "metadata": {},
     "output_type": "execute_result"
    }
   ],
   "source": [
    "streets = street.head(10)\n",
    "streets.number_of_restaurants\n",
    "streets = pd.DataFrame(streets)\n",
    "streets"
   ]
  },
  {
   "cell_type": "code",
   "execution_count": 40,
   "metadata": {},
   "outputs": [
    {
     "data": {
      "image/png": "[encoded data removed]",
      "text/plain": [
       "<Figure size 842.4x595.44 with 1 Axes>"
      ]
     },
     "metadata": {},
     "output_type": "display_data"
    }
   ],
   "source": [
    "# plt.figure(figsize = (11.7, 8.27))\n",
    "streets.plot.bar(x='street_name', y = 'number_of_restaurants', figsize = (11.7, 8.27))\n",
    "\n",
    "plt.title('Streets with the highest amount of the restaurants')\n",
    "plt.ylabel('amount of restaurants')\n",
    "plt.show()"
   ]
  },
  {
   "cell_type": "markdown",
   "metadata": {},
   "source": [
    "While there are streets with more than 200 hundred restaurants at the city center, there are 201 streets with only one restaurant.\n"
   ]
  },
  {
   "cell_type": "markdown",
   "metadata": {},
   "source": [
    "- Find the number of streets that only have one restaurant."
   ]
  },
  {
   "cell_type": "code",
   "execution_count": 41,
   "metadata": {},
   "outputs": [
    {
     "data": {
      "text/html": [
       "<div>\n",
       "<style scoped>\n",
       "    .dataframe tbody tr th:only-of-type {\n",
       "        vertical-align: middle;\n",
       "    }\n",
       "\n",
       "    .dataframe tbody tr th {\n",
       "        vertical-align: top;\n",
       "    }\n",
       "\n",
       "    .dataframe thead th {\n",
       "        text-align: right;\n",
       "    }\n",
       "</style>\n",
       "<table border=\"1\" class=\"dataframe\">\n",
       "  <thead>\n",
       "    <tr style=\"text-align: right;\">\n",
       "      <th></th>\n",
       "      <th>street_name</th>\n",
       "      <th>number_of_restaurants</th>\n",
       "    </tr>\n",
       "  </thead>\n",
       "  <tbody>\n",
       "    <tr>\n",
       "      <td>0</td>\n",
       "      <td>WILSHIRE</td>\n",
       "      <td>319</td>\n",
       "    </tr>\n",
       "  </tbody>\n",
       "</table>\n",
       "</div>"
      ],
      "text/plain": [
       "  street_name  number_of_restaurants\n",
       "0    WILSHIRE                    319"
      ]
     },
     "execution_count": 41,
     "metadata": {},
     "output_type": "execute_result"
    }
   ],
   "source": [
    "street.head(1)"
   ]
  },
  {
   "cell_type": "code",
   "execution_count": 42,
   "metadata": {},
   "outputs": [],
   "source": [
    "one_rest_street= street[street['number_of_restaurants']==1].reset_index()"
   ]
  },
  {
   "cell_type": "code",
   "execution_count": 43,
   "metadata": {},
   "outputs": [
    {
     "data": {
      "text/plain": [
       "201"
      ]
     },
     "execution_count": 43,
     "metadata": {},
     "output_type": "execute_result"
    }
   ],
   "source": [
    "len(one_rest_street.number_of_restaurants)"
   ]
  },
  {
   "cell_type": "markdown",
   "metadata": {},
   "source": [
    "- For streets with a lot of restaurants,look at the distribution of the number of seats.What trends can you see?"
   ]
  },
  {
   "cell_type": "code",
   "execution_count": 53,
   "metadata": {},
   "outputs": [
    {
     "data": {
      "text/html": [
       "<div>\n",
       "<style scoped>\n",
       "    .dataframe tbody tr th:only-of-type {\n",
       "        vertical-align: middle;\n",
       "    }\n",
       "\n",
       "    .dataframe tbody tr th {\n",
       "        vertical-align: top;\n",
       "    }\n",
       "\n",
       "    .dataframe thead th {\n",
       "        text-align: right;\n",
       "    }\n",
       "</style>\n",
       "<table border=\"1\" class=\"dataframe\">\n",
       "  <thead>\n",
       "    <tr style=\"text-align: right;\">\n",
       "      <th></th>\n",
       "      <th>street_name</th>\n",
       "      <th>number_of_restaurants</th>\n",
       "    </tr>\n",
       "  </thead>\n",
       "  <tbody>\n",
       "    <tr>\n",
       "      <td>0</td>\n",
       "      <td>WILSHIRE</td>\n",
       "      <td>319</td>\n",
       "    </tr>\n",
       "    <tr>\n",
       "      <td>1</td>\n",
       "      <td>SUNSET</td>\n",
       "      <td>297</td>\n",
       "    </tr>\n",
       "    <tr>\n",
       "      <td>2</td>\n",
       "      <td>WESTERN</td>\n",
       "      <td>292</td>\n",
       "    </tr>\n",
       "    <tr>\n",
       "      <td>3</td>\n",
       "      <td>PICO</td>\n",
       "      <td>283</td>\n",
       "    </tr>\n",
       "    <tr>\n",
       "      <td>4</td>\n",
       "      <td>OLYMPIC</td>\n",
       "      <td>257</td>\n",
       "    </tr>\n",
       "    <tr>\n",
       "      <td>...</td>\n",
       "      <td>...</td>\n",
       "      <td>...</td>\n",
       "    </tr>\n",
       "    <tr>\n",
       "      <td>456</td>\n",
       "      <td>JUDGE JOHN AISO</td>\n",
       "      <td>1</td>\n",
       "    </tr>\n",
       "    <tr>\n",
       "      <td>457</td>\n",
       "      <td>JARVIS</td>\n",
       "      <td>1</td>\n",
       "    </tr>\n",
       "    <tr>\n",
       "      <td>458</td>\n",
       "      <td>JAPANESE VILLAGE PLZ</td>\n",
       "      <td>1</td>\n",
       "    </tr>\n",
       "    <tr>\n",
       "      <td>459</td>\n",
       "      <td>JAPANESE VILLAGE PLAZA</td>\n",
       "      <td>1</td>\n",
       "    </tr>\n",
       "    <tr>\n",
       "      <td>460</td>\n",
       "      <td>1/4 FAIR PARK</td>\n",
       "      <td>1</td>\n",
       "    </tr>\n",
       "  </tbody>\n",
       "</table>\n",
       "<p>461 rows × 2 columns</p>\n",
       "</div>"
      ],
      "text/plain": [
       "                street_name  number_of_restaurants\n",
       "0                  WILSHIRE                    319\n",
       "1                    SUNSET                    297\n",
       "2                   WESTERN                    292\n",
       "3                      PICO                    283\n",
       "4                   OLYMPIC                    257\n",
       "..                      ...                    ...\n",
       "456         JUDGE JOHN AISO                      1\n",
       "457                  JARVIS                      1\n",
       "458    JAPANESE VILLAGE PLZ                      1\n",
       "459  JAPANESE VILLAGE PLAZA                      1\n",
       "460           1/4 FAIR PARK                      1\n",
       "\n",
       "[461 rows x 2 columns]"
      ]
     },
     "execution_count": 53,
     "metadata": {},
     "output_type": "execute_result"
    }
   ],
   "source": [
    "street"
   ]
  },
  {
   "cell_type": "code",
   "execution_count": 54,
   "metadata": {},
   "outputs": [
    {
     "data": {
      "image/png": "[encoded data removed]",
      "text/plain": [
       "<Figure size 432x288 with 1 Axes>"
      ]
     },
     "metadata": {},
     "output_type": "display_data"
    }
   ],
   "source": [
    "street.number_of_restaurants.hist(bins=100)\n",
    "plt.title('Distribution of the restaurants through the streeets.')\n",
    "plt.ylabel('Amount of restaraunts')\n",
    "plt.xlabel('Amount of streets')\n",
    "plt.show()"
   ]
  },
  {
   "cell_type": "markdown",
   "metadata": {},
   "source": [
    "We can see that very few streets have more than 300 restaurants in them. Most of the streets have less than ten restaurants."
   ]
  },
  {
   "cell_type": "code",
   "execution_count": 45,
   "metadata": {},
   "outputs": [],
   "source": [
    "streets = data[data['clean_street_tag'].isin(streets['street_name'])].reset_index()"
   ]
  },
  {
   "cell_type": "code",
   "execution_count": 46,
   "metadata": {},
   "outputs": [
    {
     "data": {
      "text/html": [
       "<div>\n",
       "<style scoped>\n",
       "    .dataframe tbody tr th:only-of-type {\n",
       "        vertical-align: middle;\n",
       "    }\n",
       "\n",
       "    .dataframe tbody tr th {\n",
       "        vertical-align: top;\n",
       "    }\n",
       "\n",
       "    .dataframe thead th {\n",
       "        text-align: right;\n",
       "    }\n",
       "</style>\n",
       "<table border=\"1\" class=\"dataframe\">\n",
       "  <thead>\n",
       "    <tr style=\"text-align: right;\">\n",
       "      <th></th>\n",
       "      <th>clean_street_tag</th>\n",
       "      <th>number</th>\n",
       "      <th>address</th>\n",
       "    </tr>\n",
       "  </thead>\n",
       "  <tbody>\n",
       "    <tr>\n",
       "      <td>0</td>\n",
       "      <td>3RD</td>\n",
       "      <td>40.532319</td>\n",
       "      <td>263</td>\n",
       "    </tr>\n",
       "    <tr>\n",
       "      <td>1</td>\n",
       "      <td>FIGUEROA</td>\n",
       "      <td>45.050898</td>\n",
       "      <td>334</td>\n",
       "    </tr>\n",
       "    <tr>\n",
       "      <td>2</td>\n",
       "      <td>HOLLYWOOD</td>\n",
       "      <td>57.047431</td>\n",
       "      <td>253</td>\n",
       "    </tr>\n",
       "    <tr>\n",
       "      <td>3</td>\n",
       "      <td>OLYMPIC</td>\n",
       "      <td>49.339806</td>\n",
       "      <td>309</td>\n",
       "    </tr>\n",
       "    <tr>\n",
       "      <td>4</td>\n",
       "      <td>PICO</td>\n",
       "      <td>40.632432</td>\n",
       "      <td>370</td>\n",
       "    </tr>\n",
       "    <tr>\n",
       "      <td>5</td>\n",
       "      <td>SANTA MONICA</td>\n",
       "      <td>35.045455</td>\n",
       "      <td>264</td>\n",
       "    </tr>\n",
       "    <tr>\n",
       "      <td>6</td>\n",
       "      <td>SUNSET</td>\n",
       "      <td>47.997525</td>\n",
       "      <td>404</td>\n",
       "    </tr>\n",
       "    <tr>\n",
       "      <td>7</td>\n",
       "      <td>VERMONT</td>\n",
       "      <td>45.371528</td>\n",
       "      <td>288</td>\n",
       "    </tr>\n",
       "    <tr>\n",
       "      <td>8</td>\n",
       "      <td>WESTERN</td>\n",
       "      <td>41.344173</td>\n",
       "      <td>369</td>\n",
       "    </tr>\n",
       "    <tr>\n",
       "      <td>9</td>\n",
       "      <td>WILSHIRE</td>\n",
       "      <td>52.655779</td>\n",
       "      <td>398</td>\n",
       "    </tr>\n",
       "  </tbody>\n",
       "</table>\n",
       "</div>"
      ],
      "text/plain": [
       "  clean_street_tag     number  address\n",
       "0              3RD  40.532319      263\n",
       "1         FIGUEROA  45.050898      334\n",
       "2        HOLLYWOOD  57.047431      253\n",
       "3          OLYMPIC  49.339806      309\n",
       "4             PICO  40.632432      370\n",
       "5     SANTA MONICA  35.045455      264\n",
       "6           SUNSET  47.997525      404\n",
       "7          VERMONT  45.371528      288\n",
       "8          WESTERN  41.344173      369\n",
       "9         WILSHIRE  52.655779      398"
      ]
     },
     "execution_count": 46,
     "metadata": {},
     "output_type": "execute_result"
    }
   ],
   "source": [
    "streets_s = streets.groupby('clean_street_tag').agg({'number':'mean', 'address':'count'}).reset_index()\n",
    "streets_s"
   ]
  },
  {
   "cell_type": "code",
   "execution_count": 47,
   "metadata": {},
   "outputs": [
    {
     "data": {
      "image/png": "[encoded data removed]",
      "text/plain": [
       "<Figure size 842.4x595.44 with 1 Axes>"
      ]
     },
     "metadata": {},
     "output_type": "display_data"
    }
   ],
   "source": [
    "fig, ax = plt.subplots(figsize=(11.7, 8.27))\n",
    "sns.scatterplot(data=streets, x= 'number', y = 'clean_street_tag', ax = ax)\n",
    "plt.xlabel('Number of seats')\n",
    "plt.ylabel('Strret name')\n",
    "plt.title('Relation of seats to places on the top streets')\n",
    "plt.show()"
   ]
  },
  {
   "cell_type": "markdown",
   "metadata": {},
   "source": [
    "As we can see, each street's main trend is having up to 50 seats for most places. As well as the trend of having from 50 to 150 seats, there we can see only slight changes, but only four streets have more than 150 seats at the places regularly.\n"
   ]
  },
  {
   "cell_type": "markdown",
   "metadata": {},
   "source": [
    "# Conclusions: <a class=\"anchor\" id=\"st3\"></a>\n"
   ]
  },
  {
   "cell_type": "markdown",
   "metadata": {},
   "source": [
    "- There are much more chained  than non-chained coffee places in the city, which should determine our choice of place and orientation on becoming a chain ourselves.\n",
    "- It will be better to launch the cafe at one of the top ten streets with the lowest amount of places, to remain attainable by the customers and at the same time not be overrun by competitors.\n",
    "- The city provides a lot of opportunities to the growth, there are 203 streets with only one establishment, where robot coffee can open it’s second branch.\n",
    "- The chained establishments represented with the big amount of places and relatively small (36 at the average) amount of seats, while non-chained places usually have higher (46 at the average) amount of places. At the beginning it is better to use the non-chained model of capacity which can be changed with the growth of the robot cafe.\n"
   ]
  },
  {
   "cell_type": "markdown",
   "metadata": {},
   "source": [
    "# Presentation link <a class=\"anchor\" id=\"st4\"></a>"
   ]
  },
  {
   "cell_type": "markdown",
   "metadata": {},
   "source": [
    "Presentation: <https://www.dropbox.com/s/5fofnpxnpx6yyr5/Robot_cafe.pdf?dl=0> "
   ]
  }
 ],
 "metadata": {
  "kernelspec": {
   "display_name": "Python 3",
   "language": "python",
   "name": "python3"
  },
  "language_info": {
   "codemirror_mode": {
    "name": "ipython",
    "version": 3
   },
   "file_extension": ".py",
   "mimetype": "text/x-python",
   "name": "python",
   "nbconvert_exporter": "python",
   "pygments_lexer": "ipython3",
   "version": "3.8.5"
  },
  "toc": {
   "base_numbering": 1,
   "nav_menu": {},
   "number_sections": true,
   "sideBar": true,
   "skip_h1_title": false,
   "title_cell": "Table of Contents",
   "title_sidebar": "Contents",
   "toc_cell": false,
   "toc_position": {},
   "toc_section_display": true,
   "toc_window_display": false
  }
 },
 "nbformat": 4,
 "nbformat_minor": 4
}
